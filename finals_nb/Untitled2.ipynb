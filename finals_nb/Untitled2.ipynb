{
 "cells": [
  {
   "cell_type": "code",
   "execution_count": 3,
   "id": "e90b2386-3f29-4130-9295-0a421bbbacaa",
   "metadata": {},
   "outputs": [
    {
     "ename": "ModuleNotFoundError",
     "evalue": "No module named 'joblib'",
     "output_type": "error",
     "traceback": [
      "\u001b[31m---------------------------------------------------------------------------\u001b[39m",
      "\u001b[31mModuleNotFoundError\u001b[39m                       Traceback (most recent call last)",
      "\u001b[36mCell\u001b[39m\u001b[36m \u001b[39m\u001b[32mIn[3]\u001b[39m\u001b[32m, line 4\u001b[39m\n\u001b[32m      2\u001b[39m \u001b[38;5;28;01mimport\u001b[39;00m\u001b[38;5;250m \u001b[39m\u001b[34;01mnumpy\u001b[39;00m\u001b[38;5;250m \u001b[39m\u001b[38;5;28;01mas\u001b[39;00m\u001b[38;5;250m \u001b[39m\u001b[34;01mnp\u001b[39;00m\n\u001b[32m      3\u001b[39m \u001b[38;5;28;01mimport\u001b[39;00m\u001b[38;5;250m \u001b[39m\u001b[34;01mmatplotlib\u001b[39;00m\u001b[34;01m.\u001b[39;00m\u001b[34;01mpyplot\u001b[39;00m\u001b[38;5;250m \u001b[39m\u001b[38;5;28;01mas\u001b[39;00m\u001b[38;5;250m \u001b[39m\u001b[34;01mplt\u001b[39;00m\n\u001b[32m----> \u001b[39m\u001b[32m4\u001b[39m \u001b[38;5;28;01mfrom\u001b[39;00m\u001b[38;5;250m \u001b[39m\u001b[34;01mjoblib\u001b[39;00m\u001b[38;5;250m \u001b[39m\u001b[38;5;28;01mimport\u001b[39;00m Parallel, delayed\n\u001b[32m      5\u001b[39m \u001b[38;5;66;03m# Define the system\u001b[39;00m\n\u001b[32m      6\u001b[39m \u001b[38;5;28;01mdef\u001b[39;00m\u001b[38;5;250m \u001b[39m\u001b[34mfunction\u001b[39m(t, v, y):\n",
      "\u001b[31mModuleNotFoundError\u001b[39m: No module named 'joblib'"
     ]
    }
   ],
   "source": [
    "from scipy.integrate import solve_ivp\n",
    "import numpy as np\n",
    "import matplotlib.pyplot as plt\n",
    "# from joblib import Parallel, delayed\n",
    "# Define the system\n",
    "def function(t, v, y):\n",
    "    w = 2 * np.pi\n",
    "    w0 = 1.5 * w\n",
    "    b = 0.25 * w0\n",
    "    theta1, theta2, theta3 = v\n",
    "    theta1dot = theta2\n",
    "    theta2dot = (y * w0**2 * np.cos(theta3)) - (2 * b * theta2) - (w0**2 * np.sin(theta1))\n",
    "    theta3dot = w\n",
    "    return [theta1dot, theta2dot, theta3dot]\n",
    "    \n",
    "def orbit(y):\n",
    "    t_f = 500\n",
    "    IC = [np.pi / 2, 0, 0]\n",
    "    sol = solve_ivp(function, [0, t_f], IC, args=(y,),\n",
    "    method=\"RK45\", rtol=1e-9, atol=1e-12, max_step=0.01, dense_output=True)\n",
    "    # Select the last 100 time points\n",
    "    t_sample = np.arange(t_f - 100, t_f, 1)\n",
    "    print(t_sample)\n",
    "    theta1_samples = sol.sol(t_sample)[0]\n",
    "    # Wrap theta\n",
    "    theta1_wrapped = (theta1_samples + np.pi) % (2 * np.pi) - np.pireturn [y] * len(theta1_wrapped), theta1_wrapped\n",
    "    # Vary parameter\n",
    "    y_values = np.arange(0.1, 1.2, 0.01)\n",
    "    # Run in parallel\n",
    "    results = Parallel(n_jobs=-1, verbose=5)(delayed(orbit)(y) for y in y_values)\n",
    "    # Unpack results\n",
    "    store_y, store_theta = zip(*results)\n",
    "    store_y = np.concatenate(store_y)\n",
    "    store_theta = np.concatenate(store_theta)\n",
    "    # Plot\n",
    "    plt.figure(figsize=(10, 5))\n",
    "    plt.scatter(store_y, store_theta, s=1)\n",
    "    plt.xlabel(\"y\")\n",
    "    plt.ylabel(\"theta\")\n",
    "    plt.title(\"Orbit Diagram\")\n",
    "    plt.grid(True)\n",
    "    plt.show()"
   ]
  }
 ],
 "metadata": {
  "kernelspec": {
   "display_name": "Python 3 (ipykernel)",
   "language": "python",
   "name": "python3"
  },
  "language_info": {
   "codemirror_mode": {
    "name": "ipython",
    "version": 3
   },
   "file_extension": ".py",
   "mimetype": "text/x-python",
   "name": "python",
   "nbconvert_exporter": "python",
   "pygments_lexer": "ipython3",
   "version": "3.12.3"
  }
 },
 "nbformat": 4,
 "nbformat_minor": 5
}
