{
 "cells": [
  {
   "cell_type": "code",
   "execution_count": null,
   "id": "5c8f4577-f2a1-49c8-8d05-4bdb8b43eb19",
   "metadata": {},
   "outputs": [],
   "source": []
  }
 ],
 "metadata": {
  "kernelspec": {
   "display_name": "",
   "name": ""
  },
  "language_info": {
   "name": ""
  }
 },
 "nbformat": 4,
 "nbformat_minor": 5
}
